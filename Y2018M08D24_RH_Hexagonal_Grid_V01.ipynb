{
  "nbformat": 4,
  "nbformat_minor": 0,
  "metadata": {
    "colab": {
      "name": "Y2018M08D24_RH_Hexagonal_Grid_V01.ipynb",
      "version": "0.3.2",
      "provenance": [],
      "collapsed_sections": [],
      "include_colab_link": true
    },
    "kernelspec": {
      "name": "python3",
      "display_name": "Python 3"
    }
  },
  "cells": [
    {
      "cell_type": "markdown",
      "metadata": {
        "id": "view-in-github",
        "colab_type": "text"
      },
      "source": [
        "[View in Colaboratory](https://colab.research.google.com/github/rutgerhofste/bq-geoms/blob/master/Y2018M08D24_RH_Hexagonal_Grid_V01.ipynb)"
      ]
    },
    {
      "metadata": {
        "id": "03ugrDC0Tj8p",
        "colab_type": "text"
      },
      "cell_type": "markdown",
      "source": [
        "Python 3 runtime\n",
        "\n",
        "#  Create global hexagonal grid. \n",
        "\n",
        "Use case: Hexbin in Google Bigquery.\n",
        "\n",
        "Question on [stack exchange](https://gis.stackexchange.com/questions/293780/create-hexbin-honeycomb-grid-using-command-line-or-python/293811#293811)\n",
        "\n",
        "\n",
        "\n",
        "\n",
        "\n",
        "\n",
        "\n"
      ]
    },
    {
      "metadata": {
        "id": "wfLSGJq1GSwi",
        "colab_type": "text"
      },
      "cell_type": "markdown",
      "source": [
        "There are multiple ways to create a tesselation based on hexagons. \n",
        "\n",
        "## pointy hexagons\n",
        "\n",
        "![pointy hexagons](https://image.ibb.co/gioAa9/pointy.png)\n",
        "\n",
        "## flat hexagons\n",
        "\n",
        "![flat hexagons](https://preview.ibb.co/mT6Dv9/flat.png)\n",
        "\n",
        "## Tesselation\n",
        "\n",
        "![grids](https://preview.ibb.co/j6ubXp/Capture.png)\n",
        "\n",
        "lets start with odd-r for pointy polygons. (left) Further note that in this script the lower left corner is 0,0.\n",
        "\n",
        "The result is a geopandas geodataframe. In order to ingest the data into BigQuery, you need to setup credentials. This script includes a handy functionality where you can point to credentials in you google drive. Alternatively you can also copy-paste but this is less secure. More info [here](https://pandas-gbq.readthedocs.io/en/latest/howto/authentication.html)\n",
        "\n",
        "Please add comments or improve this script. \n",
        "\n",
        "TODO:\n",
        "1. Allow other orientations, tesselations and coordinate systems. \n",
        "1. Add parallel processing."
      ]
    },
    {
      "metadata": {
        "id": "o-e058P3amhV",
        "colab_type": "code",
        "colab": {
          "base_uri": "https://localhost:8080/",
          "height": 493
        },
        "outputId": "8b8f7bcd-9a23-4b5a-fbdd-f56e49c8ea11"
      },
      "cell_type": "code",
      "source": [
        " !pip install shapely geopandas descartes sqlalchemy pydrive psycopg2"
      ],
      "execution_count": 0,
      "outputs": [
        {
          "output_type": "stream",
          "text": [
            "Requirement already satisfied: shapely in /usr/local/lib/python3.6/dist-packages (1.6.4.post2)\r\n",
            "Requirement already satisfied: geopandas in /usr/local/lib/python3.6/dist-packages (0.4.0)\r\n",
            "Requirement already satisfied: descartes in /usr/local/lib/python3.6/dist-packages (1.1.0)\r\n",
            "Requirement already satisfied: sqlalchemy in /usr/local/lib/python3.6/dist-packages (1.2.11)\r\n",
            "Requirement already satisfied: pydrive in /usr/local/lib/python3.6/dist-packages (1.3.1)\r\n",
            "Requirement already satisfied: psycopg2 in /usr/local/lib/python3.6/dist-packages (2.7.5)\r\n",
            "Requirement already satisfied: fiona in /usr/local/lib/python3.6/dist-packages (from geopandas) (1.7.13)\r\n",
            "Requirement already satisfied: pandas in /usr/local/lib/python3.6/dist-packages (from geopandas) (0.22.0)\n",
            "Requirement already satisfied: pyproj in /usr/local/lib/python3.6/dist-packages (from geopandas) (1.9.5.1)\n",
            "Requirement already satisfied: matplotlib in /usr/local/lib/python3.6/dist-packages (from descartes) (2.1.2)\n",
            "Requirement already satisfied: google-api-python-client>=1.2 in /usr/local/lib/python3.6/dist-packages (from pydrive) (1.6.7)\n",
            "Requirement already satisfied: oauth2client>=4.0.0 in /usr/local/lib/python3.6/dist-packages (from pydrive) (4.1.2)\n",
            "Requirement already satisfied: PyYAML>=3.0 in /usr/local/lib/python3.6/dist-packages (from pydrive) (3.13)\n",
            "Requirement already satisfied: six>=1.7 in /usr/local/lib/python3.6/dist-packages (from fiona->geopandas) (1.11.0)\n",
            "Requirement already satisfied: click-plugins in /usr/local/lib/python3.6/dist-packages (from fiona->geopandas) (1.0.3)\n",
            "Requirement already satisfied: cligj>=0.4 in /usr/local/lib/python3.6/dist-packages (from fiona->geopandas) (0.4.0)\n",
            "Requirement already satisfied: munch in /usr/local/lib/python3.6/dist-packages (from fiona->geopandas) (2.3.2)\n",
            "Requirement already satisfied: python-dateutil>=2 in /usr/local/lib/python3.6/dist-packages (from pandas->geopandas) (2.5.3)\n",
            "Requirement already satisfied: numpy>=1.9.0 in /usr/local/lib/python3.6/dist-packages (from pandas->geopandas) (1.14.5)\n",
            "Requirement already satisfied: pytz>=2011k in /usr/local/lib/python3.6/dist-packages (from pandas->geopandas) (2018.5)\n",
            "Requirement already satisfied: pyparsing!=2.0.4,!=2.1.2,!=2.1.6,>=2.0.1 in /usr/local/lib/python3.6/dist-packages (from matplotlib->descartes) (2.2.0)\n",
            "Requirement already satisfied: cycler>=0.10 in /usr/local/lib/python3.6/dist-packages (from matplotlib->descartes) (0.10.0)\n",
            "Requirement already satisfied: uritemplate<4dev,>=3.0.0 in /usr/local/lib/python3.6/dist-packages (from google-api-python-client>=1.2->pydrive) (3.0.0)\n",
            "Requirement already satisfied: httplib2<1dev,>=0.9.2 in /usr/local/lib/python3.6/dist-packages (from google-api-python-client>=1.2->pydrive) (0.11.3)\n",
            "Requirement already satisfied: pyasn1-modules>=0.0.5 in /usr/local/lib/python3.6/dist-packages (from oauth2client>=4.0.0->pydrive) (0.2.2)\n",
            "Requirement already satisfied: pyasn1>=0.1.7 in /usr/local/lib/python3.6/dist-packages (from oauth2client>=4.0.0->pydrive) (0.4.4)\n",
            "Requirement already satisfied: rsa>=3.1.4 in /usr/local/lib/python3.6/dist-packages (from oauth2client>=4.0.0->pydrive) (3.4.2)\n",
            "Requirement already satisfied: click>=3.0 in /usr/local/lib/python3.6/dist-packages (from click-plugins->fiona->geopandas) (6.7)\n"
          ],
          "name": "stdout"
        }
      ]
    },
    {
      "metadata": {
        "id": "dErdK_ZzLHy8",
        "colab_type": "code",
        "colab": {}
      },
      "cell_type": "code",
      "source": [
        "import math\n",
        "import pandas as pd\n",
        "import geopandas as gpd\n",
        "from shapely.geometry import Polygon\n",
        "from shapely.wkt import dumps, loads\n",
        "\n",
        "from google.cloud import bigquery\n",
        "from google.colab import auth\n",
        "from pydrive.auth import GoogleAuth\n",
        "from pydrive.drive import GoogleDrive\n",
        "from oauth2client.client import GoogleCredentials\n"
      ],
      "execution_count": 0,
      "outputs": []
    },
    {
      "metadata": {
        "id": "3ks21lbfWY68",
        "colab_type": "code",
        "colab": {}
      },
      "cell_type": "code",
      "source": [
        "def generate_angles(orientation=\"flat\"):\n",
        "  \"\"\" Generate angles in radians.\n",
        "  \n",
        "  Args:\n",
        "    orientation (string): determine orientation. 'flat' or 'pointy' defaults to\n",
        "      'flat'.\n",
        "  Returns:\n",
        "    angles (list): list of angles in radians.\n",
        "   \n",
        "  \"\"\"\n",
        "  \n",
        "  angles = []  \n",
        "  if orientation == 'flat':\n",
        "      for i in range(0,6):\n",
        "          angles.append((1/3)*math.pi*i)\n",
        "  \n",
        "  elif orientation == 'pointy':   \n",
        "      for i in range(0,6):\n",
        "          angles.append((1/3)*math.pi*i + 1/6*math.pi)\n",
        "  else:\n",
        "      raise Exception(\"orientation should be 'flat' or 'pointy'\")\n",
        "  return angles\n",
        "\n",
        "\n",
        "def hex_corners(center_x,center_y, r, angles):\n",
        "    \"\"\" Create hexagonal polygon. \n",
        "    \n",
        "    Args:\n",
        "      center_x (float): X coordinate of center.\n",
        "      center_y (float): Y coordinate of center.\n",
        "      r (float): Radius of hexagon (distance center-corner)\n",
        "      angles (list): Angles in radians. \n",
        "    Returns:\n",
        "      polygon (shapely polygon) : \n",
        "    \n",
        "    \"\"\" \n",
        "    coords = []\n",
        "    for angle in angles:\n",
        "        x = center_x + r * math.cos(angle)\n",
        "        y = center_y + r * math.sin(angle)\n",
        "        coords.append((x,y))\n",
        "    \n",
        "    polygon = Polygon(coords)\n",
        "    return polygon\n",
        "  \n",
        "  \n",
        "def create_extent_polygon(x_min,x_max,y_min,y_max):\n",
        "    llcrn = (x_min,y_min)\n",
        "    ulcrn = (x_min,y_max)\n",
        "    urcrn = (x_max,y_max)\n",
        "    lrcrn = (x_max,y_min)  \n",
        "    extent = Polygon((llcrn,ulcrn,urcrn,lrcrn))\n",
        "    return extent\n",
        "  \n",
        "def create_grid(r=1,orientation=\"pointy\",offset_coordinates=\"odd_r\",clipping=True,x_min=-180,x_max=180,y_min=-90,y_max=90):\n",
        "    \"\"\" Create Hexogonal grid\n",
        "\n",
        "    see this guide for orientattion and offset:\n",
        "    https://www.redblobgames.com/grids/hexagons/\n",
        "\n",
        "    The function is crs agnostic.\n",
        "\n",
        "    TODO: \n",
        "    1. Currently only pointy-odd_r supported. \n",
        "    1. Allow parallel processing, make polygon creation separate function.\n",
        "\n",
        "    Args: \n",
        "      r (float): radius in arc degrees. Defaults to 1\n",
        "      orientation (string): Orientatation of hexagons of type : 'flat' or 'pointy'\n",
        "        defaults to pointy.\n",
        "      offset_coordinates (string): numbering of polygons of type: 'odd_r' or \n",
        "        'even_r' for pointy polygons and 'odd_q' and 'even_q' for flat polygons.\n",
        "      clipping(boolean): clip to extent.\n",
        "      x_min(float): minimum longitude. Default -180.\n",
        "      x_max(float): maximum longitude. Default 180.\n",
        "      y_min(float): minimum latitude. Default -90.\n",
        "      y_max(float): maximum latitude. Default 90.\n",
        "\n",
        "    Returns:\n",
        "      gdf(geoDataFrame) geoDataFrame with polygons and metadata.\n",
        "\n",
        "\n",
        "    \"\"\"\n",
        "\n",
        "    flat_topped_angles = generate_angles(orientation=\"flat\")\n",
        "    pointy_topped_angles = generate_angles(orientation=\"pointy\")\n",
        "    \n",
        "    #The diameter measures from point to point\n",
        "    dia_major = 2*r  \n",
        "    \n",
        "    #diameter from side to side, called dia_minor\n",
        "    dia_minor = math.sqrt(3) * r     \n",
        "    \n",
        "    extent_polygon = create_extent_polygon(x_min,x_max,y_min,y_max)\n",
        "    \n",
        "    if orientation ==\"pointy\" and offset_coordinates==\"odd_r\":\n",
        "        y = y_min\n",
        "        ys = []\n",
        "        while y < y_max + (3/4)*dia_major :\n",
        "            ys.append(y)\n",
        "            y = y + (3/4)*dia_major\n",
        "\n",
        "        centres = []\n",
        "        for row_number,y in enumerate(ys):\n",
        "            col_number = 0\n",
        "            if row_number % 2 == 0:\n",
        "                # even row, no horizontal shift\n",
        "                x = x_min\n",
        "                while x < x_max+dia_minor:\n",
        "                    polygon = hex_corners(x,y,r, pointy_topped_angles)\n",
        "                    \n",
        "                    if clipping:\n",
        "                        polygon = polygon.intersection(extent_polygon)\n",
        "                    \n",
        "                    feature = {\"row_number\":row_number,\"col_number\":col_number,\"x\":x,\"y\":y,\"polygon\":polygon}\n",
        "                    centres.append(feature)\n",
        "                    x = x + dia_minor\n",
        "                    col_number += 1\n",
        "            else:\n",
        "                # odd row, shift right with 1/2 dia_minor\n",
        "                x = x_min + (1/2)*dia_minor\n",
        "                while x < x_max+dia_minor:\n",
        "                    polygon = hex_corners(x,y,r, pointy_topped_angles)\n",
        "                    \n",
        "                    if clipping:\n",
        "                        polygon = polygon.intersection(extent_polygon)\n",
        "                    \n",
        "                    \n",
        "                    feature = {\"row_number\":row_number,\"col_number\":col_number,\"x\":x,\"y\":y,\"polygon\":polygon}\n",
        "                    centres.append(feature)\n",
        "                    x = x + dia_minor\n",
        "                    col_number += 1\n",
        "        gdf = gpd.GeoDataFrame(centres,geometry=\"polygon\")\n",
        "    else:\n",
        "      raise Exception(\"currently only supports 'pointy and 'odd_r'\")\n",
        "    return gdf\n",
        "  \n",
        "  \n",
        "def r_finder_minor(n,dist_min,dist_max):\n",
        "    \"\"\" find radius based on distance and number of polygons stacked on minor \n",
        "    axis (horizontal if point, vertical if flat)    \n",
        "        \n",
        "      Args:\n",
        "        n (integer) : number of hexagons to fit stacked over minor axis.\n",
        "        dist_min (float) : minimum distance. \n",
        "        dist_max (float) : maximum distance. \n",
        "      Returns:\n",
        "        r (float): radius of hexagon (center-corner).\n",
        "            \n",
        "    \"\"\"\n",
        "    distance = dist_max - dist_min    \n",
        "    dia_minor = distance / float(n)\n",
        "    r = dia_minor/math.sqrt(3)    \n",
        "    return r\n",
        "    \n",
        "\n",
        "  \n",
        "  "
      ],
      "execution_count": 0,
      "outputs": []
    },
    {
      "metadata": {
        "id": "zb-d5c-acxOh",
        "colab_type": "code",
        "colab": {}
      },
      "cell_type": "code",
      "source": [
        "# Settings\n",
        "\n",
        "orientation = 'pointy'\n",
        "offset_coordinates=\"odd_r\"\n",
        "clipping = True\n",
        "\n",
        "\n",
        "# Avoid polar regions. (ver long polygons due to projection)\n",
        "x_min=-180\n",
        "x_max= 180\n",
        "y_min=-80\n",
        "y_max= 80\n",
        "\n",
        "# Number of hexagons in x direction, pointy-even_r. \n",
        "# Script is not optimized yet so use n<1000 (1000 takes appr. 1 min)\n",
        "\n",
        "n = 36 \n",
        "r = r_finder_minor(n,x_min,x_max)\n",
        "\n",
        "\n",
        "\n",
        "# simply use dia_major = 2r for other direction or if you are using flat polygons. "
      ],
      "execution_count": 0,
      "outputs": []
    },
    {
      "metadata": {
        "id": "jcKd5Zu8Jt81",
        "colab_type": "code",
        "colab": {}
      },
      "cell_type": "code",
      "source": [
        "gdf = create_grid(r=r,\n",
        "                  orientation=orientation,\n",
        "                  offset_coordinates=offset_coordinates,\n",
        "                  clipping = clipping,\n",
        "                  x_min=x_min,\n",
        "                  x_max=x_max,\n",
        "                  y_min=y_min,\n",
        "                  y_max=y_max)"
      ],
      "execution_count": 0,
      "outputs": []
    },
    {
      "metadata": {
        "id": "LnhspYbikLlE",
        "colab_type": "code",
        "colab": {
          "base_uri": "https://localhost:8080/",
          "height": 263
        },
        "outputId": "44832a73-825a-4b9e-f26f-b99d6b8a0ab1"
      },
      "cell_type": "code",
      "source": [
        "gdf.plot()"
      ],
      "execution_count": 0,
      "outputs": [
        {
          "output_type": "execute_result",
          "data": {
            "text/plain": [
              "<matplotlib.axes._subplots.AxesSubplot at 0x7f280586f828>"
            ]
          },
          "metadata": {
            "tags": []
          },
          "execution_count": 208
        },
        {
          "output_type": "display_data",
          "data": {
            "image/png": "[encoded data removed]",
            "text/plain": [
              "<matplotlib.figure.Figure at 0x7f2805871128>"
            ]
          },
          "metadata": {
            "tags": []
          }
        }
      ]
    },
    {
      "metadata": {
        "id": "hh5dDcN2f0li",
        "colab_type": "text"
      },
      "cell_type": "markdown",
      "source": [
        "# GPD to BQ \n",
        "\n",
        "At this point we have a fully functional hexgrid in GeoDataFrame format.   \n",
        "Next we will convert the geodataframe to WKT or GeoJSON and ingest in BigQuery. "
      ]
    },
    {
      "metadata": {
        "id": "s3As0H4hgeOq",
        "colab_type": "code",
        "colab": {}
      },
      "cell_type": "code",
      "source": [
        "auth.authenticate_user()\n",
        "gauth = GoogleAuth()\n",
        "gauth.credentials = GoogleCredentials.get_application_default()\n",
        "drive = GoogleDrive(gauth)\n",
        "\n",
        "# Google Drive ID of the google bigquery creds.\n",
        "# change to your own credentials.\n",
        "\n",
        "BQ_CREDS_ID = \"1JzjuosHbtV7mzE0f85ZTXsNc2X4p8BFK\"\n",
        "BQ_PROJECT_ID = \"aqueduct30\"\n",
        "\n",
        "OUTPUT_DATASET = \"spatial_test\" #create dataset first if not exist.\n",
        "OUTPUT_TABLE_NAME = \"hexagons_wkt\"\n",
        "\n",
        "bq_file = drive.CreateFile({'id': BQ_CREDS_ID}).GetContentString()\n",
        "client = bigquery.Client(project=BQ_PROJECT_ID)"
      ],
      "execution_count": 0,
      "outputs": []
    },
    {
      "metadata": {
        "id": "LToamGvwJIud",
        "colab_type": "code",
        "colab": {}
      },
      "cell_type": "code",
      "source": [
        "gdf[\"polygon_wkt\"] = gdf[\"polygon\"].apply(lambda x: dumps(x))"
      ],
      "execution_count": 0,
      "outputs": []
    },
    {
      "metadata": {
        "id": "r6Ngsa_MJAhO",
        "colab_type": "code",
        "colab": {}
      },
      "cell_type": "code",
      "source": [
        "df = gdf.drop(\"polygon\",axis=1)"
      ],
      "execution_count": 0,
      "outputs": []
    },
    {
      "metadata": {
        "id": "-MJ0wBX4JDS2",
        "colab_type": "code",
        "colab": {
          "base_uri": "https://localhost:8080/",
          "height": 204
        },
        "outputId": "6b182d1f-9e8c-48de-8737-58c12cbf357f"
      },
      "cell_type": "code",
      "source": [
        "df.head()"
      ],
      "execution_count": 0,
      "outputs": [
        {
          "output_type": "execute_result",
          "data": {
            "text/html": [
              "<div>\n",
              "<style scoped>\n",
              "    .dataframe tbody tr th:only-of-type {\n",
              "        vertical-align: middle;\n",
              "    }\n",
              "\n",
              "    .dataframe tbody tr th {\n",
              "        vertical-align: top;\n",
              "    }\n",
              "\n",
              "    .dataframe thead th {\n",
              "        text-align: right;\n",
              "    }\n",
              "</style>\n",
              "<table border=\"1\" class=\"dataframe\">\n",
              "  <thead>\n",
              "    <tr style=\"text-align: right;\">\n",
              "      <th></th>\n",
              "      <th>col_number</th>\n",
              "      <th>row_number</th>\n",
              "      <th>x</th>\n",
              "      <th>y</th>\n",
              "      <th>polygon_wkt</th>\n",
              "    </tr>\n",
              "  </thead>\n",
              "  <tbody>\n",
              "    <tr>\n",
              "      <th>0</th>\n",
              "      <td>0</td>\n",
              "      <td>0</td>\n",
              "      <td>-180.0</td>\n",
              "      <td>-80.0</td>\n",
              "      <td>POLYGON ((-180.0000000000000000 -74.2264973081...</td>\n",
              "    </tr>\n",
              "    <tr>\n",
              "      <th>1</th>\n",
              "      <td>1</td>\n",
              "      <td>0</td>\n",
              "      <td>-170.0</td>\n",
              "      <td>-80.0</td>\n",
              "      <td>POLYGON ((-175.0000000000000000 -80.0000000000...</td>\n",
              "    </tr>\n",
              "    <tr>\n",
              "      <th>2</th>\n",
              "      <td>2</td>\n",
              "      <td>0</td>\n",
              "      <td>-160.0</td>\n",
              "      <td>-80.0</td>\n",
              "      <td>POLYGON ((-165.0000000000000000 -80.0000000000...</td>\n",
              "    </tr>\n",
              "    <tr>\n",
              "      <th>3</th>\n",
              "      <td>3</td>\n",
              "      <td>0</td>\n",
              "      <td>-150.0</td>\n",
              "      <td>-80.0</td>\n",
              "      <td>POLYGON ((-155.0000000000000000 -80.0000000000...</td>\n",
              "    </tr>\n",
              "    <tr>\n",
              "      <th>4</th>\n",
              "      <td>4</td>\n",
              "      <td>0</td>\n",
              "      <td>-140.0</td>\n",
              "      <td>-80.0</td>\n",
              "      <td>POLYGON ((-145.0000000000000000 -80.0000000000...</td>\n",
              "    </tr>\n",
              "  </tbody>\n",
              "</table>\n",
              "</div>"
            ],
            "text/plain": [
              "   col_number  row_number      x     y  \\\n",
              "0           0           0 -180.0 -80.0   \n",
              "1           1           0 -170.0 -80.0   \n",
              "2           2           0 -160.0 -80.0   \n",
              "3           3           0 -150.0 -80.0   \n",
              "4           4           0 -140.0 -80.0   \n",
              "\n",
              "                                         polygon_wkt  \n",
              "0  POLYGON ((-180.0000000000000000 -74.2264973081...  \n",
              "1  POLYGON ((-175.0000000000000000 -80.0000000000...  \n",
              "2  POLYGON ((-165.0000000000000000 -80.0000000000...  \n",
              "3  POLYGON ((-155.0000000000000000 -80.0000000000...  \n",
              "4  POLYGON ((-145.0000000000000000 -80.0000000000...  "
            ]
          },
          "metadata": {
            "tags": []
          },
          "execution_count": 212
        }
      ]
    },
    {
      "metadata": {
        "id": "FJ2VP9hRO14a",
        "colab_type": "code",
        "colab": {}
      },
      "cell_type": "code",
      "source": [
        "destination_table = \"{}.{}\".format(DATASET,OUTPUT_TABLE_NAME)"
      ],
      "execution_count": 0,
      "outputs": []
    },
    {
      "metadata": {
        "id": "RgdWPcX5NwgL",
        "colab_type": "code",
        "colab": {}
      },
      "cell_type": "code",
      "source": [
        "df.to_gbq(destination_table=destination_table,\n",
        "          project_id = BQ_PROJECT_ID,\n",
        "          if_exists=\"replace\")"
      ],
      "execution_count": 0,
      "outputs": []
    },
    {
      "metadata": {
        "id": "1TUI5pS6Pubs",
        "colab_type": "text"
      },
      "cell_type": "markdown",
      "source": [
        "Now the data is in WKT on bigquery. You can visualize using:\n",
        "https://bigquerygeoviz.appspot.com/\n",
        "\n",
        "the last step would be to convert the WKT to geometry on bigquery. \n",
        "SELECT *, ST_GeogFromText(polygon_wkt) AS g FROM `aqueduct30.spatial_test.hexagons_wkt`\n",
        "\n",
        "please note that that the hexagons will be in Geopraphy instead of geometry!\n",
        "\n",
        "happy hexbinning!\n",
        "\n"
      ]
    }
  ]
}