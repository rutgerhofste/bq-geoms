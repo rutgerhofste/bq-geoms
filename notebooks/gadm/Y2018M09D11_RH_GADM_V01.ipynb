{
 "cells": [
  {
   "cell_type": "markdown",
   "metadata": {
    "colab_type": "text",
    "id": "view-in-github"
   },
   "source": [
    "[View in Colaboratory](https://colab.research.google.com/github/rutgerhofste/bq-geoms/blob/master/Y2018M09D11_RH_GADM_V01.ipynb)"
   ]
  },
  {
   "cell_type": "markdown",
   "metadata": {
    "colab_type": "text",
    "id": "-MuWCHLtT4P7"
   },
   "source": [
    "\n",
    "Python 3 runtime\n",
    "\n",
    "## create GADM derived table in bigquery. \n",
    "Use case: Spatial Join in Bigquery\n",
    "\n",
    "Question on stack exchange\n",
    "\n",
    "Notebook is Google Colab compatible.\n",
    "\n",
    "This script will process the global geopackage. Please note that geopandas handles data in memory so make sure your VM is sufficiently large to handle the level."
   ]
  },
  {
   "cell_type": "code",
   "execution_count": 1,
   "metadata": {
    "colab": {},
    "colab_type": "code",
    "collapsed": true,
    "id": "-EmekRdebWRp"
   },
   "outputs": [],
   "source": [
    "# Select level 0 (country) - 5 (commune). See https://gadm.org/index.html for \n",
    "# more information.\n",
    "LEVEL = 0"
   ]
  },
  {
   "cell_type": "code",
   "execution_count": 2,
   "metadata": {
    "colab": {
     "base_uri": "https://localhost:8080/",
     "height": 1071
    },
    "colab_type": "code",
    "collapsed": true,
    "id": "UVetm0j1UQQU",
    "outputId": "1890c355-1e1f-47a7-a0f9-551852743e72"
   },
   "outputs": [],
   "source": [
    "#!pip install shapely geopandas descartes sqlalchemy pydrive psycopg2"
   ]
  },
  {
   "cell_type": "code",
   "execution_count": 3,
   "metadata": {
    "colab": {
     "base_uri": "https://localhost:8080/",
     "height": 34
    },
    "colab_type": "code",
    "collapsed": true,
    "id": "FbWqJAZvUcT7",
    "outputId": "295e0d93-85c8-4d13-d9ce-17a4127464fa"
   },
   "outputs": [],
   "source": [
    "# Version 3.6 Date accessed 2018 09 11\n",
    "# Compressed Size = 1.2 GB \n",
    "# Uncompressed Size =  3.5 GB\n",
    "\n",
    "!rm -r /volumes/data/Y2018M09D11_RH_GADM_V01/input_data\n",
    "!mkdir -p /volumes/data/Y2018M09D11_RH_GADM_V01/input_data"
   ]
  },
  {
   "cell_type": "code",
   "execution_count": 4,
   "metadata": {
    "colab": {},
    "colab_type": "code",
    "collapsed": true,
    "id": "Mkc_kykgVGfD"
   },
   "outputs": [],
   "source": [
    "url = \"https://biogeo.ucdavis.edu/data/gadm3.6/gadm36_levels_gpkg.zip\"\n",
    "url = \"https://biogeo.ucdavis.edu/data/gadm3.6/gpkg/gadm36_NLD_gpkg.zip\""
   ]
  },
  {
   "cell_type": "code",
   "execution_count": 5,
   "metadata": {
    "colab": {
     "base_uri": "https://localhost:8080/",
     "height": 51
    },
    "colab_type": "code",
    "id": "gJ_KDfGIU6lK",
    "outputId": "f378dc55-cff4-4980-9542-971c35650a06"
   },
   "outputs": [
    {
     "name": "stdout",
     "output_type": "stream",
     "text": [
      "--2018-09-12 10:50:15--  https://biogeo.ucdavis.edu/data/gadm3.6/gpkg/gadm36_NLD_gpkg.zip\n",
      "Resolving biogeo.ucdavis.edu (biogeo.ucdavis.edu)... 128.120.228.172\n",
      "Connecting to biogeo.ucdavis.edu (biogeo.ucdavis.edu)|128.120.228.172|:443... connected.\n",
      "HTTP request sent, awaiting response... 302 Found\n",
      "Location: https://data.biogeo.ucdavis.edu/data/gadm3.6/gpkg/gadm36_NLD_gpkg.zip [following]\n",
      "--2018-09-12 10:50:17--  https://data.biogeo.ucdavis.edu/data/gadm3.6/gpkg/gadm36_NLD_gpkg.zip\n",
      "Resolving data.biogeo.ucdavis.edu (data.biogeo.ucdavis.edu)... 128.120.228.172\n",
      "Connecting to data.biogeo.ucdavis.edu (data.biogeo.ucdavis.edu)|128.120.228.172|:443... connected.\n",
      "HTTP request sent, awaiting response... 200 OK\n",
      "Length: 775946 (758K) [application/zip]\n",
      "Saving to: '/volumes/data/Y2018M09D11_RH_GADM_V01/input_data/gadm36_NLD_gpkg.zip'\n",
      "\n",
      "gadm36_NLD_gpkg.zip 100%[===================>] 757.76K   985KB/s    in 0.8s    \n",
      "\n",
      "2018-09-12 10:50:19 (985 KB/s) - '/volumes/data/Y2018M09D11_RH_GADM_V01/input_data/gadm36_NLD_gpkg.zip' saved [775946/775946]\n",
      "\n"
     ]
    }
   ],
   "source": [
    "!wget {url} -P /volumes/data/Y2018M09D11_RH_GADM_V01/input_data"
   ]
  },
  {
   "cell_type": "code",
   "execution_count": 6,
   "metadata": {
    "colab": {},
    "colab_type": "code",
    "collapsed": true,
    "id": "79-WA6ULVwDb"
   },
   "outputs": [],
   "source": [
    "import os\n",
    "import fiona\n",
    "import geopandas as gpd\n",
    "\n",
    "from google.cloud import bigquery\n",
    "from pydrive.auth import GoogleAuth\n",
    "from pydrive.drive import GoogleDrive\n",
    "from oauth2client.client import GoogleCredentials"
   ]
  },
  {
   "cell_type": "code",
   "execution_count": 9,
   "metadata": {
    "colab": {
     "base_uri": "https://localhost:8080/",
     "height": 34
    },
    "colab_type": "code",
    "id": "JEtEzNMQV4l7",
    "outputId": "0e753328-5777-42cc-9e3b-9e641971ea04"
   },
   "outputs": [],
   "source": [
    "files = os.listdir(\"/volumes/data/Y2018M09D11_RH_GADM_V01/input_data\")"
   ]
  },
  {
   "cell_type": "code",
   "execution_count": 10,
   "metadata": {},
   "outputs": [],
   "source": [
    "file_name = files[0]"
   ]
  },
  {
   "cell_type": "code",
   "execution_count": 11,
   "metadata": {
    "colab": {
     "base_uri": "https://localhost:8080/",
     "height": 68
    },
    "colab_type": "code",
    "id": "exp9K7w7V6oM",
    "outputId": "36021b93-9050-4575-bd95-6c78d311343b"
   },
   "outputs": [
    {
     "name": "stdout",
     "output_type": "stream",
     "text": [
      "Archive:  /volumes/data/Y2018M09D11_RH_GADM_V01/input_data/gadm36_NLD_gpkg.zip\r\n",
      "  inflating: /volumes/data/Y2018M09D11_RH_GADM_V01/input_data/gadm36_NLD.gpkg  \r\n",
      "  inflating: /volumes/data/Y2018M09D11_RH_GADM_V01/input_data/license.txt  \r\n"
     ]
    }
   ],
   "source": [
    "!unzip '/volumes/data/Y2018M09D11_RH_GADM_V01/input_data/{file_name}' -d /volumes/data/Y2018M09D11_RH_GADM_V01/input_data/"
   ]
  },
  {
   "cell_type": "code",
   "execution_count": 12,
   "metadata": {
    "colab": {},
    "colab_type": "code",
    "collapsed": true,
    "id": "ebPkLF7dbO1i"
   },
   "outputs": [],
   "source": [
    "layer = \"level{:01.0f}\".format(LEVEL)"
   ]
  },
  {
   "cell_type": "code",
   "execution_count": null,
   "metadata": {
    "colab": {},
    "colab_type": "code",
    "collapsed": true,
    "id": "dcZN0kp_WbD8"
   },
   "outputs": [],
   "source": [
    "gdf = gpd.read_file(\"/volumes/data/Y2018M09D11_RH_GADM_V01/input_data/gadm36_levels.gpkg\",layer=layer)"
   ]
  },
  {
   "cell_type": "code",
   "execution_count": null,
   "metadata": {
    "colab": {
     "base_uri": "https://localhost:8080/",
     "height": 204
    },
    "colab_type": "code",
    "id": "68WK83v3W8C9",
    "outputId": "86a3cc41-c416-4a7f-c63d-7f78aff1544f"
   },
   "outputs": [],
   "source": [
    "gdf.head()"
   ]
  },
  {
   "cell_type": "code",
   "execution_count": null,
   "metadata": {
    "colab": {},
    "colab_type": "code",
    "collapsed": true,
    "id": "FzU8aW_IaB05"
   },
   "outputs": [],
   "source": [
    "gdf[\"geometry_wkt\"] = gdf[\"geometry\"].apply(lambda x: x.to_wkt())"
   ]
  },
  {
   "cell_type": "code",
   "execution_count": null,
   "metadata": {
    "collapsed": true
   },
   "outputs": [],
   "source": [
    "os.environ[\"GOOGLE_APPLICATION_CREDENTIALS\"] = \"/.google.json\"\n",
    "client = bigquery.Client()"
   ]
  },
  {
   "cell_type": "code",
   "execution_count": null,
   "metadata": {
    "colab": {},
    "colab_type": "code",
    "collapsed": true,
    "id": "EBAWae16b_ZS"
   },
   "outputs": [],
   "source": [
    "# Google Drive ID of the google bigquery creds.\n",
    "# change to your own credentials.\n",
    "BQ_CREDS_ID = \"1JzjuosHbtV7mzE0f85ZTXsNc2X4p8BFK\"\n",
    "BQ_PROJECT_ID = \"aqueduct30\"\n",
    "\n",
    "OUTPUT_DATASET = \"spatial_test\" #create dataset first if not exist.\n",
    "OUTPUT_TABLE_NAME = \"gadm_{}_wkt\".format(layer)"
   ]
  },
  {
   "cell_type": "code",
   "execution_count": null,
   "metadata": {
    "colab": {},
    "colab_type": "code",
    "collapsed": true,
    "id": "rQSw3M_xc4m6"
   },
   "outputs": [],
   "source": [
    "destination_table = \"{}.{}\".format(OUTPUT_DATASET,OUTPUT_TABLE_NAME)"
   ]
  },
  {
   "cell_type": "code",
   "execution_count": null,
   "metadata": {
    "colab": {},
    "colab_type": "code",
    "collapsed": true,
    "id": "6gkxMkD0dGHk"
   },
   "outputs": [],
   "source": [
    "df = gdf.drop(\"geometry\",axis=1)"
   ]
  },
  {
   "cell_type": "code",
   "execution_count": null,
   "metadata": {
    "colab": {
     "base_uri": "https://localhost:8080/",
     "height": 34
    },
    "colab_type": "code",
    "id": "b1jf7tfNqsq0",
    "outputId": "1537b4d0-f708-48b7-890a-9c8679f87c6d"
   },
   "outputs": [],
   "source": [
    "df.shape"
   ]
  },
  {
   "cell_type": "code",
   "execution_count": null,
   "metadata": {
    "collapsed": true
   },
   "outputs": [],
   "source": [
    "def "
   ]
  },
  {
   "cell_type": "code",
   "execution_count": null,
   "metadata": {
    "collapsed": true
   },
   "outputs": [],
   "source": []
  },
  {
   "cell_type": "code",
   "execution_count": null,
   "metadata": {
    "collapsed": true
   },
   "outputs": [],
   "source": []
  },
  {
   "cell_type": "code",
   "execution_count": null,
   "metadata": {
    "colab": {
     "base_uri": "https://localhost:8080/",
     "height": 1166
    },
    "colab_type": "code",
    "id": "II0tFyandV3z",
    "outputId": "2e63e769-8d06-4dce-f063-c3be5cfc3758"
   },
   "outputs": [],
   "source": [
    "df.to_gbq(destination_table=destination_table,\n",
    "          project_id = BQ_PROJECT_ID,\n",
    "          if_exists=\"replace\",\n",
    "          chunksize=10)"
   ]
  },
  {
   "cell_type": "markdown",
   "metadata": {
    "colab_type": "text",
    "id": "i2IcVO5SdYBL"
   },
   "source": [
    "Now the data is in WKT on bigquery. You can visualize using:\n",
    "https://bigquerygeoviz.appspot.com/\n",
    "\n",
    "the last step would be to convert the WKT to geometry on bigquery. \n",
    "SELECT *, ST_GeogFromText(geometry_wkt) AS g FROM `aqueduct30.spatial_test.gadm_levelx_wkt`\n",
    "\n",
    "please note that that the hexagons will be in Geopraphy instead of geometry!\n",
    "\n",
    "happy mapping.\n",
    "\n"
   ]
  },
  {
   "cell_type": "code",
   "execution_count": null,
   "metadata": {
    "colab": {},
    "colab_type": "code",
    "collapsed": true,
    "id": "eCCz3zxHeoBU"
   },
   "outputs": [],
   "source": []
  }
 ],
 "metadata": {
  "colab": {
   "include_colab_link": true,
   "name": "Y2018M09D11_RH_GADM_V01.ipynb",
   "provenance": [],
   "version": "0.3.2"
  },
  "kernelspec": {
   "display_name": "Python 35",
   "language": "python",
   "name": "python35"
  },
  "language_info": {
   "codemirror_mode": {
    "name": "ipython",
    "version": 3
   },
   "file_extension": ".py",
   "mimetype": "text/x-python",
   "name": "python",
   "nbconvert_exporter": "python",
   "pygments_lexer": "ipython3",
   "version": "3.5.4"
  }
 },
 "nbformat": 4,
 "nbformat_minor": 1
}
