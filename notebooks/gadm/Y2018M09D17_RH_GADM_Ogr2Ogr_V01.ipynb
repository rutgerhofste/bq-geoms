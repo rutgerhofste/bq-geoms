{
 "cells": [
  {
   "cell_type": "code",
   "execution_count": 2,
   "metadata": {},
   "outputs": [],
   "source": [
    "\"\"\" Convert GeoPackage to Bigquery Compatible Format\n",
    "\n",
    "Approach:\n",
    "\n",
    "read geospatial datatype\n",
    "\n",
    "ogr2ogr to converto to csv file\n",
    "\n",
    "TODO:\n",
    "\n",
    "allow direct upload to GCS instead of writing to VM.  \n",
    "Add other geospatial datastypes.\n",
    "Add multiprocessing (or Apache Beam if I want to make it fancy)\n",
    "\n",
    "\"\"\"\n",
    "\n",
    "SCRIPT_NAME = \"Y2018M09D17_RH_GADM_Ogr2Ogr_V01\"\n",
    "OUTPUT_VERSION = 1\n",
    "\n",
    "GCS_OUTPUT_PATH = \"gs://aqueduct30_v01/{}\".format(SCRIPT_NAME)\n",
    "\n",
    "ec2_input_path = \"/volumes/data/%s/input_V%0.2d\" %(SCRIPT_NAME,OUTPUT_VERSION)\n",
    "ec2_output_path = \"/volumes/data/%s/output_V%0.2d\" %(SCRIPT_NAME,OUTPUT_VERSION)\n"
   ]
  },
  {
   "cell_type": "code",
   "execution_count": 3,
   "metadata": {},
   "outputs": [
    {
     "name": "stdout",
     "output_type": "stream",
     "text": [
      "rm: cannot remove '/volumes/data/Y2018M09D17_RH_GADM_Ogr2Ogr_V01/input_V01': No such file or directory\n",
      "rm: cannot remove '/volumes/data/Y2018M09D17_RH_GADM_Ogr2Ogr_V01/output_V01': No such file or directory\n"
     ]
    }
   ],
   "source": [
    "!rm -r {ec2_input_path}\n",
    "!mkdir -p {ec2_input_path}\n",
    "!rm -r {ec2_output_path}\n",
    "!mkdir -p {ec2_output_path}"
   ]
  },
  {
   "cell_type": "code",
   "execution_count": 4,
   "metadata": {
    "collapsed": true
   },
   "outputs": [],
   "source": [
    "filename_zip = \"gadm36_gpkg.zip\" \n",
    "filename_gpkg = \"gadm36.gpkg\"\n",
    "url = \"https://biogeo.ucdavis.edu/data/gadm3.6/%s\" %filename_zip\n",
    "file_path_zip = \"%s/%s\" %(ec2_input_path, filename_zip)\n",
    "file_path_gpkg = \"%s/%s\" %(ec2_input_path, filename_gpkg)"
   ]
  },
  {
   "cell_type": "code",
   "execution_count": 5,
   "metadata": {},
   "outputs": [
    {
     "name": "stdout",
     "output_type": "stream",
     "text": [
      "--2018-09-17 06:00:15--  https://biogeo.ucdavis.edu/data/gadm3.6/gadm36_gpkg.zip\n",
      "Resolving biogeo.ucdavis.edu (biogeo.ucdavis.edu)... 128.120.228.172\n",
      "Connecting to biogeo.ucdavis.edu (biogeo.ucdavis.edu)|128.120.228.172|:443... connected.\n",
      "HTTP request sent, awaiting response... 302 Found\n",
      "Location: https://data.biogeo.ucdavis.edu/data/gadm3.6/gadm36_gpkg.zip [following]\n",
      "--2018-09-17 06:00:16--  https://data.biogeo.ucdavis.edu/data/gadm3.6/gadm36_gpkg.zip\n",
      "Resolving data.biogeo.ucdavis.edu (data.biogeo.ucdavis.edu)... 128.120.228.172\n",
      "Connecting to data.biogeo.ucdavis.edu (data.biogeo.ucdavis.edu)|128.120.228.172|:443... connected.\n",
      "HTTP request sent, awaiting response... 200 OK\n",
      "Length: 574403668 (548M) [application/zip]\n",
      "Saving to: '/volumes/data/Y2018M09D17_RH_GADM_Ogr2Ogr_V01/input_V01/gadm36_gpkg.zip'\n",
      "\n",
      "gadm36_gpkg.zip     100%[===================>] 547.79M  9.88MB/s    in 56s     \n",
      "\n",
      "2018-09-17 06:01:14 (9.70 MB/s) - '/volumes/data/Y2018M09D17_RH_GADM_Ogr2Ogr_V01/input_V01/gadm36_gpkg.zip' saved [574403668/574403668]\n",
      "\n"
     ]
    }
   ],
   "source": [
    "!wget {url} -P {ec2_input_path}"
   ]
  },
  {
   "cell_type": "code",
   "execution_count": 6,
   "metadata": {},
   "outputs": [
    {
     "name": "stdout",
     "output_type": "stream",
     "text": [
      "Archive:  /volumes/data/Y2018M09D17_RH_GADM_Ogr2Ogr_V01/input_V01/gadm36_gpkg.zip\n",
      "  inflating: /volumes/data/Y2018M09D17_RH_GADM_Ogr2Ogr_V01/input_V01/gadm36.gpkg  \n"
     ]
    }
   ],
   "source": [
    "!unzip {file_path_zip} -d {ec2_input_path}"
   ]
  },
  {
   "cell_type": "code",
   "execution_count": 7,
   "metadata": {
    "collapsed": true
   },
   "outputs": [],
   "source": [
    "ec2_output_file_path = \"{}/gadm36.csv\".format(ec2_output_path)"
   ]
  },
  {
   "cell_type": "code",
   "execution_count": 14,
   "metadata": {
    "collapsed": true
   },
   "outputs": [],
   "source": [
    "command = \"/opt/anaconda3/envs/python35/bin/ogr2ogr -f 'CSV' -lco GEOMETRY=AS_WKT {} {}/{}\".format(ec2_output_file_path,ec2_input_path,filename_gpkg)"
   ]
  },
  {
   "cell_type": "code",
   "execution_count": 15,
   "metadata": {},
   "outputs": [
    {
     "data": {
      "text/plain": [
       "\"/opt/anaconda3/envs/python35/bin/ogr2ogr -f 'CSV' -lco GEOMETRY=AS_WKT /volumes/data/Y2018M09D17_RH_GADM_Ogr2Ogr_V01/output_V01/gadm36.csv /volumes/data/Y2018M09D17_RH_GADM_Ogr2Ogr_V01/input_V01/gadm36.gpkg\""
      ]
     },
     "execution_count": 15,
     "metadata": {},
     "output_type": "execute_result"
    }
   ],
   "source": [
    "command"
   ]
  },
  {
   "cell_type": "code",
   "execution_count": 16,
   "metadata": {
    "collapsed": true
   },
   "outputs": [],
   "source": [
    "import subprocess"
   ]
  },
  {
   "cell_type": "code",
   "execution_count": 13,
   "metadata": {},
   "outputs": [
    {
     "ename": "CalledProcessError",
     "evalue": "Command 'ogr2ogr -f 'CSV' -lco GEOMETRY=AS_WKT /volumes/data/Y2018M09D17_RH_GADM_Ogr2Ogr_V01/output_V01/gadm36.csv /volumes/data/Y2018M09D17_RH_GADM_Ogr2Ogr_V01/input_V01/gadm36.gpkg' returned non-zero exit status 127",
     "output_type": "error",
     "traceback": [
      "\u001b[0;31m---------------------------------------------------------------------------\u001b[0m",
      "\u001b[0;31mCalledProcessError\u001b[0m                        Traceback (most recent call last)",
      "\u001b[0;32m<ipython-input-13-bb86832f32db>\u001b[0m in \u001b[0;36m<module>\u001b[0;34m()\u001b[0m\n\u001b[0;32m----> 1\u001b[0;31m \u001b[0mresponse\u001b[0m \u001b[0;34m=\u001b[0m \u001b[0msubprocess\u001b[0m\u001b[0;34m.\u001b[0m\u001b[0mcheck_output\u001b[0m\u001b[0;34m(\u001b[0m\u001b[0mcommand\u001b[0m\u001b[0;34m,\u001b[0m\u001b[0mshell\u001b[0m\u001b[0;34m=\u001b[0m\u001b[0;32mTrue\u001b[0m\u001b[0;34m)\u001b[0m\u001b[0;34m\u001b[0m\u001b[0m\n\u001b[0m",
      "\u001b[0;32m/opt/anaconda3/envs/python35/lib/python3.5/subprocess.py\u001b[0m in \u001b[0;36mcheck_output\u001b[0;34m(timeout, *popenargs, **kwargs)\u001b[0m\n\u001b[1;32m    314\u001b[0m \u001b[0;34m\u001b[0m\u001b[0m\n\u001b[1;32m    315\u001b[0m     return run(*popenargs, stdout=PIPE, timeout=timeout, check=True,\n\u001b[0;32m--> 316\u001b[0;31m                **kwargs).stdout\n\u001b[0m\u001b[1;32m    317\u001b[0m \u001b[0;34m\u001b[0m\u001b[0m\n\u001b[1;32m    318\u001b[0m \u001b[0;34m\u001b[0m\u001b[0m\n",
      "\u001b[0;32m/opt/anaconda3/envs/python35/lib/python3.5/subprocess.py\u001b[0m in \u001b[0;36mrun\u001b[0;34m(input, timeout, check, *popenargs, **kwargs)\u001b[0m\n\u001b[1;32m    396\u001b[0m         \u001b[0;32mif\u001b[0m \u001b[0mcheck\u001b[0m \u001b[0;32mand\u001b[0m \u001b[0mretcode\u001b[0m\u001b[0;34m:\u001b[0m\u001b[0;34m\u001b[0m\u001b[0m\n\u001b[1;32m    397\u001b[0m             raise CalledProcessError(retcode, process.args,\n\u001b[0;32m--> 398\u001b[0;31m                                      output=stdout, stderr=stderr)\n\u001b[0m\u001b[1;32m    399\u001b[0m     \u001b[0;32mreturn\u001b[0m \u001b[0mCompletedProcess\u001b[0m\u001b[0;34m(\u001b[0m\u001b[0mprocess\u001b[0m\u001b[0;34m.\u001b[0m\u001b[0margs\u001b[0m\u001b[0;34m,\u001b[0m \u001b[0mretcode\u001b[0m\u001b[0;34m,\u001b[0m \u001b[0mstdout\u001b[0m\u001b[0;34m,\u001b[0m \u001b[0mstderr\u001b[0m\u001b[0;34m)\u001b[0m\u001b[0;34m\u001b[0m\u001b[0m\n\u001b[1;32m    400\u001b[0m \u001b[0;34m\u001b[0m\u001b[0m\n",
      "\u001b[0;31mCalledProcessError\u001b[0m: Command 'ogr2ogr -f 'CSV' -lco GEOMETRY=AS_WKT /volumes/data/Y2018M09D17_RH_GADM_Ogr2Ogr_V01/output_V01/gadm36.csv /volumes/data/Y2018M09D17_RH_GADM_Ogr2Ogr_V01/input_V01/gadm36.gpkg' returned non-zero exit status 127"
     ]
    }
   ],
   "source": [
    "response = subprocess.check_output(command,shell=True)"
   ]
  },
  {
   "cell_type": "code",
   "execution_count": 17,
   "metadata": {},
   "outputs": [
    {
     "name": "stdout",
     "output_type": "stream",
     "text": [
      "Copying file:///volumes/data/Y2018M09D17_RH_GADM_Ogr2Ogr_V01/output_V01/gadm36.csv [Content-Type=text/csv]...\n",
      "==> NOTE: You are uploading one or more large file(s), which would run\n",
      "significantly faster if you enable parallel composite uploads. This\n",
      "feature can be enabled by editing the\n",
      "\"parallel_composite_upload_threshold\" value in your .boto\n",
      "configuration file. However, note that if you do this large files will\n",
      "be uploaded as `composite objects\n",
      "<https://cloud.google.com/storage/docs/composite-objects>`_,which\n",
      "means that any user who downloads such objects will need to have a\n",
      "compiled crcmod installed (see \"gsutil help crcmod\"). This is because\n",
      "without a compiled crcmod, computing checksums on composite objects is\n",
      "so slow that gsutil disables downloads of composite objects.\n",
      "\n",
      "| [1/1 files][  3.4 GiB/  3.4 GiB] 100% Done  52.1 MiB/s ETA 00:00:00           \n",
      "Operation completed over 1 objects/3.4 GiB.                                      \n"
     ]
    }
   ],
   "source": [
    "!gsutil -m cp -r {ec2_output_path} {GCS_OUTPUT_PATH}"
   ]
  },
  {
   "cell_type": "code",
   "execution_count": null,
   "metadata": {
    "collapsed": true
   },
   "outputs": [],
   "source": []
  }
 ],
 "metadata": {
  "kernelspec": {
   "display_name": "Python 35",
   "language": "python",
   "name": "python35"
  },
  "language_info": {
   "codemirror_mode": {
    "name": "ipython",
    "version": 3
   },
   "file_extension": ".py",
   "mimetype": "text/x-python",
   "name": "python",
   "nbconvert_exporter": "python",
   "pygments_lexer": "ipython3",
   "version": "3.5.4"
  }
 },
 "nbformat": 4,
 "nbformat_minor": 2
}
