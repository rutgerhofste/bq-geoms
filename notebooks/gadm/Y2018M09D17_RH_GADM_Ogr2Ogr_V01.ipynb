{
 "cells": [
  {
   "cell_type": "code",
   "execution_count": 1,
   "metadata": {},
   "outputs": [],
   "source": [
    "\"\"\" Convert GeoPackage to Bigquery Compatible Format\n",
    "\n",
    "Approach:\n",
    "\n",
    "read geospatial datatype\n",
    "\n",
    "ogr2ogr to converto to csv file\n",
    "\n",
    "TODO:\n",
    "\n",
    "allow direct upload to GCS instead of writing to VM.  \n",
    "Add other geospatial datastypes.\n",
    "Add multiprocessing (or Apache Beam if I want to make it fancy)\n",
    "\n",
    "\"\"\"\n",
    "\n",
    "SCRIPT_NAME = \"Y2018M09D17_RH_GADM_Ogr2Ogr_V01\"\n",
    "OUTPUT_VERSION = 1\n",
    "\n",
    "GCS_OUTPUT_PATH = \"gs://aqueduct30_v01/{}\".format(SCRIPT_NAME)\n",
    "\n",
    "ec2_input_path = \"/volumes/data/%s/input_V%0.2d\" %(SCRIPT_NAME,OUTPUT_VERSION)\n",
    "ec2_output_path = \"/volumes/data/%s/output_V%0.2d\" %(SCRIPT_NAME,OUTPUT_VERSION)\n"
   ]
  },
  {
   "cell_type": "code",
   "execution_count": 2,
   "metadata": {},
   "outputs": [],
   "source": [
    "!rm -r {ec2_input_path}\n",
    "!mkdir -p {ec2_input_path}\n",
    "!rm -r {ec2_output_path}\n",
    "!mkdir -p {ec2_output_path}"
   ]
  },
  {
   "cell_type": "code",
   "execution_count": 3,
   "metadata": {
    "collapsed": true
   },
   "outputs": [],
   "source": [
    "filename_zip = \"gadm36_gpkg.zip\" \n",
    "filename_gpkg = \"gadm36.gpkg\"\n",
    "url = \"https://biogeo.ucdavis.edu/data/gadm3.6/%s\" %filename_zip\n",
    "file_path_zip = \"%s/%s\" %(ec2_input_path, filename_zip)\n",
    "file_path_gpkg = \"%s/%s\" %(ec2_input_path, filename_gpkg)"
   ]
  },
  {
   "cell_type": "code",
   "execution_count": 4,
   "metadata": {},
   "outputs": [
    {
     "name": "stdout",
     "output_type": "stream",
     "text": [
      "--2018-09-17 07:13:28--  https://biogeo.ucdavis.edu/data/gadm3.6/gadm36_gpkg.zip\n",
      "Resolving biogeo.ucdavis.edu (biogeo.ucdavis.edu)... 128.120.228.172\n",
      "Connecting to biogeo.ucdavis.edu (biogeo.ucdavis.edu)|128.120.228.172|:443... connected.\n",
      "HTTP request sent, awaiting response... 302 Found\n",
      "Location: https://data.biogeo.ucdavis.edu/data/gadm3.6/gadm36_gpkg.zip [following]\n",
      "--2018-09-17 07:13:29--  https://data.biogeo.ucdavis.edu/data/gadm3.6/gadm36_gpkg.zip\n",
      "Resolving data.biogeo.ucdavis.edu (data.biogeo.ucdavis.edu)... 128.120.228.172\n",
      "Connecting to data.biogeo.ucdavis.edu (data.biogeo.ucdavis.edu)|128.120.228.172|:443... connected.\n",
      "HTTP request sent, awaiting response... 200 OK\n",
      "Length: 574403668 (548M) [application/zip]\n",
      "Saving to: '/volumes/data/Y2018M09D17_RH_GADM_Ogr2Ogr_V01/input_V01/gadm36_gpkg.zip'\n",
      "\n",
      "gadm36_gpkg.zip     100%[===================>] 547.79M  9.84MB/s    in 57s     \n",
      "\n",
      "2018-09-17 07:14:26 (9.68 MB/s) - '/volumes/data/Y2018M09D17_RH_GADM_Ogr2Ogr_V01/input_V01/gadm36_gpkg.zip' saved [574403668/574403668]\n",
      "\n"
     ]
    }
   ],
   "source": [
    "!wget {url} -P {ec2_input_path}"
   ]
  },
  {
   "cell_type": "code",
   "execution_count": 5,
   "metadata": {},
   "outputs": [
    {
     "name": "stdout",
     "output_type": "stream",
     "text": [
      "Archive:  /volumes/data/Y2018M09D17_RH_GADM_Ogr2Ogr_V01/input_V01/gadm36_gpkg.zip\n",
      "  inflating: /volumes/data/Y2018M09D17_RH_GADM_Ogr2Ogr_V01/input_V01/gadm36.gpkg  \n"
     ]
    }
   ],
   "source": [
    "!unzip {file_path_zip} -d {ec2_input_path}"
   ]
  },
  {
   "cell_type": "code",
   "execution_count": 6,
   "metadata": {
    "collapsed": true
   },
   "outputs": [],
   "source": [
    "ec2_output_file_path = \"{}/gadm36.csv\".format(ec2_output_path)"
   ]
  },
  {
   "cell_type": "code",
   "execution_count": 7,
   "metadata": {
    "collapsed": true
   },
   "outputs": [],
   "source": [
    "command = \"/opt/anaconda3/envs/python35/bin/ogr2ogr -f 'CSV' -lco GEOMETRY=AS_WKT {} {}/{}\".format(ec2_output_file_path,ec2_input_path,filename_gpkg)"
   ]
  },
  {
   "cell_type": "code",
   "execution_count": 8,
   "metadata": {},
   "outputs": [
    {
     "data": {
      "text/plain": [
       "\"/opt/anaconda3/envs/python35/bin/ogr2ogr -f 'CSV' -lco GEOMETRY=AS_WKT /volumes/data/Y2018M09D17_RH_GADM_Ogr2Ogr_V01/output_V01/gadm36.csv /volumes/data/Y2018M09D17_RH_GADM_Ogr2Ogr_V01/input_V01/gadm36.gpkg\""
      ]
     },
     "execution_count": 8,
     "metadata": {},
     "output_type": "execute_result"
    }
   ],
   "source": [
    "command"
   ]
  },
  {
   "cell_type": "code",
   "execution_count": 9,
   "metadata": {
    "collapsed": true
   },
   "outputs": [],
   "source": [
    "import subprocess"
   ]
  },
  {
   "cell_type": "code",
   "execution_count": 10,
   "metadata": {},
   "outputs": [],
   "source": [
    "response = subprocess.check_output(command,shell=True)"
   ]
  },
  {
   "cell_type": "code",
   "execution_count": 11,
   "metadata": {},
   "outputs": [
    {
     "name": "stdout",
     "output_type": "stream",
     "text": [
      "Copying file:///volumes/data/Y2018M09D17_RH_GADM_Ogr2Ogr_V01/output_V01/gadm36.csv [Content-Type=text/csv]...\n",
      "==> NOTE: You are uploading one or more large file(s), which would run\n",
      "significantly faster if you enable parallel composite uploads. This\n",
      "feature can be enabled by editing the\n",
      "\"parallel_composite_upload_threshold\" value in your .boto\n",
      "configuration file. However, note that if you do this large files will\n",
      "be uploaded as `composite objects\n",
      "<https://cloud.google.com/storage/docs/composite-objects>`_,which\n",
      "means that any user who downloads such objects will need to have a\n",
      "compiled crcmod installed (see \"gsutil help crcmod\"). This is because\n",
      "without a compiled crcmod, computing checksums on composite objects is\n",
      "so slow that gsutil disables downloads of composite objects.\n",
      "\n",
      "\\ [1/1 files][  3.4 GiB/  3.4 GiB] 100% Done  56.7 MiB/s ETA 00:00:00           \n",
      "Operation completed over 1 objects/3.4 GiB.                                      \n"
     ]
    }
   ],
   "source": [
    "!gsutil -m cp -r {ec2_output_path} {GCS_OUTPUT_PATH}"
   ]
  },
  {
   "cell_type": "code",
   "execution_count": null,
   "metadata": {
    "collapsed": true
   },
   "outputs": [],
   "source": [
    "end = datetime.datetime.now()\n",
    "elapsed = end - start\n",
    "print(elapsed)"
   ]
  },
  {
   "cell_type": "markdown",
   "metadata": {},
   "source": [
    "Previous Runs:  \n"
   ]
  }
 ],
 "metadata": {
  "kernelspec": {
   "display_name": "Python 35",
   "language": "python",
   "name": "python35"
  },
  "language_info": {
   "codemirror_mode": {
    "name": "ipython",
    "version": 3
   },
   "file_extension": ".py",
   "mimetype": "text/x-python",
   "name": "python",
   "nbconvert_exporter": "python",
   "pygments_lexer": "ipython3",
   "version": "3.5.4"
  }
 },
 "nbformat": 4,
 "nbformat_minor": 2
}
